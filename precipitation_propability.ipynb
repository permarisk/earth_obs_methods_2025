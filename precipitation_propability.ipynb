{
 "cells": [
  {
   "cell_type": "markdown",
   "metadata": {},
   "source": [
    "# Simulating Daily Precipitation Data\n",
    "This notebook simulates daily precipitation data over a long period and analyzes statistical properties of rainfall.\n",
    "- Uses binomial distribution to determine wet/dry days.\n",
    "- Uses gamma distribution to simulate rainfall on wet days.\n",
    "- Computes probabilities, return periods, and cumulative distribution functions."
   ]
  },
  {
   "cell_type": "code",
   "execution_count": null,
   "metadata": {},
   "outputs": [],
   "source": [
    "import numpy as np\n",
    "import pandas as pd\n",
    "import matplotlib.pyplot as plt\n",
    "from itables import init_notebook_mode, show\n",
    "\n",
    "init_notebook_mode(all_interactive=False)"
   ]
  },
  {
   "cell_type": "markdown",
   "metadata": {},
   "source": [
    "## Generating Synthetic Precipitation Data\n",
    "We generate 100 years of daily precipitation data using:\n",
    "- Binomial distribution to decide if it rains.\n",
    "- Gamma distribution for rainfall amounts on wet days."
   ]
  },
  {
   "cell_type": "code",
   "execution_count": null,
   "metadata": {},
   "outputs": [],
   "source": [
    "years = 100\n",
    "size = 365 * years\n",
    "\n",
    "np.random.seed(42)\n",
    "wetday = np.random.binomial(1, 0.3, size)\n",
    "rainfall = np.random.gamma(1, 5, size)\n",
    "precipitation = wetday * rainfall\n",
    "\n",
    "df = pd.DataFrame({'day': range(1, size + 1), 'precipitation': precipitation})\n",
    "show(df)"
   ]
  },
  {
   "cell_type": "markdown",
   "metadata": {},
   "source": [
    "## Histogram of Precipitation\n",
    "This histogram shows the distribution of daily precipitation amounts."
   ]
  },
  {
   "cell_type": "code",
   "execution_count": null,
   "metadata": {},
   "outputs": [],
   "source": [
    "plt.figure(figsize=(8, 6))\n",
    "plt.hist(df['precipitation'], bins=50, alpha=0.7, color='skyblue', edgecolor='black')\n",
    "plt.xlabel('Precipitation (mm)')\n",
    "plt.ylabel(f'Count in days within {years} years')\n",
    "plt.title('Histogram of Daily Precipitation')\n",
    "plt.grid(True)\n",
    "plt.show()"
   ]
  },
  {
   "cell_type": "markdown",
   "metadata": {},
   "source": [
    "## Extracting Rainfall Days and Computing Probabilities\n",
    "We extract days with nonzero precipitation and compute the probability of a wet day."
   ]
  },
  {
   "cell_type": "code",
   "execution_count": null,
   "metadata": {},
   "outputs": [],
   "source": [
    "dfwet = df[df.precipitation > 0]\n",
    "n_days = df.day.size\n",
    "n_wet_days = dfwet.day.size\n",
    "p_wetdays = n_wet_days / n_days"
   ]
  },
  {
   "cell_type": "markdown",
   "metadata": {},
   "source": [
    "## Histogram of Rainfall Days\n",
    "This histogram includes only days with precipitation > 0."
   ]
  },
  {
   "cell_type": "code",
   "execution_count": null,
   "metadata": {},
   "outputs": [],
   "source": [
    "plt.figure(figsize=(8, 6))\n",
    "plt.hist(dfwet['precipitation'], bins=50, alpha=0.7, color='skyblue', edgecolor='black')\n",
    "plt.xlabel('Precipitation (mm)')\n",
    "plt.ylabel(f'Count in days within {years} years')\n",
    "plt.title('Histogram of Precipitation (Rain Days Only)')\n",
    "plt.grid(True)\n",
    "plt.show()"
   ]
  },
  {
   "cell_type": "markdown",
   "metadata": {},
   "source": [
    "## Return Period Analysis\n",
    "Return period is calculated using:\n",
    "\n",
    "$$\\tau = \\frac{N + 1}{m}$$\n",
    "\n",
    "where N is the total number of wet days and m is the rank of an event and the propability of a certain rainfall event is calaculated as:\n",
    "\n",
    "$$P_{\\rm event} = \\frac{1}{\\tau}$$ "
   ]
  },
  {
   "cell_type": "code",
   "execution_count": null,
   "metadata": {},
   "outputs": [],
   "source": [
    "df_sorted = dfwet.sort_values('precipitation', ascending=False)\n",
    "rank = np.arange(1, n_wet_days+1)\n",
    "df_sorted.insert(2, 'rank', rank)\n",
    "return_period = (n_wet_days + 1) / df_sorted['rank']\n",
    "probability = 1 / return_period\n",
    "df_sorted.insert(3, 'return period', return_period)\n",
    "df_sorted.insert(4, 'probability', probability)\n",
    "show(df_sorted)"
   ]
  },
  {
   "cell_type": "markdown",
   "metadata": {},
   "source": [
    "## Complementary Cumulative Distribution Function (CCDF)\n",
    "The CCDF shows the probability of exceeding a given precipitation threshold."
   ]
  },
  {
   "cell_type": "code",
   "execution_count": null,
   "metadata": {},
   "outputs": [],
   "source": [
    "plt.figure(figsize=(8, 6))\n",
    "plt.plot(df_sorted['precipitation'], df_sorted['probability'])\n",
    "plt.xlabel('Precipitation (mm)')\n",
    "plt.ylabel('Probability of exceedance')\n",
    "plt.title('Complementary Cumulative Distribution Function (p(X>x))')\n",
    "plt.grid(True)\n",
    "plt.show()"
   ]
  },
  {
   "cell_type": "markdown",
   "metadata": {},
   "source": [
    "## Annual Exceedance Probability\n",
    "Probability of exceedance within a year is calculated using:\n",
    "$$\n",
    "P_{annual} = 1 - (1 - P_{event} \\times p_{wet})^{365}\n",
    "$$"
   ]
  },
  {
   "cell_type": "code",
   "execution_count": null,
   "metadata": {},
   "outputs": [],
   "source": [
    "probability_annual_exceedance = 1 - (1 - (df_sorted['probability'] * p_wetdays)) ** 365\n",
    "plt.figure(figsize=(8, 6))\n",
    "plt.plot(df_sorted['precipitation'], probability_annual_exceedance)\n",
    "plt.xlabel('Precipitation (mm)')\n",
    "plt.ylabel('Probability of exceedance within a year')\n",
    "plt.title('Cumulative Distribution Function 1-(1-p(X>x)*p_wet)^365')\n",
    "plt.grid(True)\n",
    "plt.show()"
   ]
  },
  {
   "cell_type": "code",
   "execution_count": null,
   "metadata": {},
   "outputs": [],
   "source": []
  }
 ],
 "metadata": {
  "kernelspec": {
   "display_name": "Python 3 (ipykernel)",
   "language": "python",
   "name": "python3"
  },
  "language_info": {
   "codemirror_mode": {
    "name": "ipython",
    "version": 3
   },
   "file_extension": ".py",
   "mimetype": "text/x-python",
   "name": "python",
   "nbconvert_exporter": "python",
   "pygments_lexer": "ipython3",
   "version": "3.8.10"
  }
 },
 "nbformat": 4,
 "nbformat_minor": 4
}
