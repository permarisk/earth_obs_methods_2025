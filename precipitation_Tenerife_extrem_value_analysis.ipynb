{
 "cells": [
  {
   "cell_type": "markdown",
   "metadata": {},
   "source": [
    "# Analysis of Daily Precipitation Data in Tenerife\n",
    "This notebook analyzes daily precipitation data from the ERA5 reanalysis dataset for Tenerife.\n",
    "### Objectives:\n",
    "- Load and preprocess precipitation data.\n",
    "- Compute statistical summaries and visualize distributions.\n",
    "- Fit a **Gamma distribution** to precipitation data.\n",
    "- Perform **Extreme Value Analysis (EVA)** to model extreme precipitation events."
   ]
  },
  {
   "cell_type": "code",
   "execution_count": null,
   "metadata": {},
   "outputs": [],
   "source": [
    "import xarray as xr\n",
    "import numpy as np\n",
    "import matplotlib.pyplot as plt\n",
    "import seaborn as sns\n",
    "import scipy.stats as stats\n",
    "from scipy.stats import gamma\n",
    "from pyextremes import EVA\n",
    "import pandas as pd\n",
    "import gdown"
   ]
  },
  {
   "cell_type": "markdown",
   "metadata": {},
   "source": [
    "## Loading Precipitation Data\n",
    "We use **ERA5 reanalysis daily precipitation data** for Tenerife from **1950 - 2000**."
   ]
  },
  {
   "cell_type": "code",
   "execution_count": null,
   "metadata": {},
   "outputs": [],
   "source": [
    "#'GOOGLE_DRIVE_LINK' to NetCDF file\n",
    "url = 'https://drive.google.com/file/d/1ljDfwAeyfLNMsArQDOFP9-7y4EC7Brxq/view?usp=drive_link'\n",
    "# Download the NetCDF file\n",
    "file_path = 'data/input/ERA5_Tenerife_total_precipitation_day_1950_2000.nc'\n",
    "gdown.download(url, file_path, quiet=False, fuzzy=True)"
   ]
  },
  {
   "cell_type": "code",
   "execution_count": null,
   "metadata": {},
   "outputs": [],
   "source": [
    "file_path = 'data/input/ERA5_Tenerife_total_precipitation_day_1950_2000.nc'\n",
    "daily_precipitation = xr.open_dataset(file_path)\n",
    "daily_precipitation.attrs['units'] = 'mm/d'\n",
    "years = daily_precipitation['time'].dt.year.values\n",
    "daily_precipitation"
   ]
  },
  {
   "cell_type": "markdown",
   "metadata": {},
   "source": [
    "## Selecting a Specific Grid Cell\n",
    "We extract data for a specific location based on latitude and longitude."
   ]
  },
  {
   "cell_type": "code",
   "execution_count": null,
   "metadata": {},
   "outputs": [],
   "source": [
    "latitude_target = 28.25\n",
    "longitude_target = -16.76\n",
    "daily_precipitation = daily_precipitation.sel(latitude=latitude_target, longitude=longitude_target, method='nearest')"
   ]
  },
  {
   "cell_type": "markdown",
   "metadata": {},
   "source": [
    "## Monthly Precipitation Analysis\n",
    "We calculate the monthly sums and compute the multi-annual mean precipitation per month."
   ]
  },
  {
   "cell_type": "code",
   "execution_count": null,
   "metadata": {},
   "outputs": [],
   "source": [
    "monthly_sum_precipitation = daily_precipitation.resample(time='1M').sum(dim='time')\n",
    "annual_mean_precipitation_monthly_sum = monthly_sum_precipitation.groupby('time.month').mean(dim='time')\n",
    "df = annual_mean_precipitation_monthly_sum.to_dataframe()\n",
    "df['tp'].plot(kind='bar', figsize=(10, 6))\n",
    "plt.title('Mean Monthly Precipitation')\n",
    "plt.xlabel('Month')\n",
    "plt.ylabel('Total Precipitation [mm]')\n",
    "plt.xticks(range(12), ['Jan', 'Feb', 'Mar', 'Apr', 'May', 'Jun', 'Jul', 'Aug', 'Sep', 'Oct', 'Nov', 'Dec'], rotation=45)\n",
    "plt.grid(axis='y')\n",
    "plt.show()"
   ]
  },
  {
   "cell_type": "markdown",
   "metadata": {},
   "source": [
    "## Violin Plot of Daily Precipitation by Month\n",
    "A **violin plot** allows us to analyze the distribution of precipitation values within each month."
   ]
  },
  {
   "cell_type": "code",
   "execution_count": null,
   "metadata": {},
   "outputs": [],
   "source": [
    "spatial_mean_daily_precipitation_monthly = daily_precipitation['tp'].groupby('time.month')\n",
    "data_list = []\n",
    "data_99p_list = []\n",
    "for m in range(1, 13):\n",
    "    data_month = spatial_mean_daily_precipitation_monthly[m]\n",
    "    data_month_99p = data_month.reduce(np.percentile, q=99, dim='time')\n",
    "    data_list.append(data_month.values)\n",
    "    data_99p_list.append(data_month_99p.values)\n",
    "plt.figure(figsize=(10, 6))\n",
    "sns.violinplot(data=data_list, cut=0, palette='Blues')\n",
    "plt.plot(np.arange(0,12,1), data_99p_list, color='r', linestyle='--', label='99th Percentile')\n",
    "plt.title('Multi-Annual Daily Precipitation Distribution per Month')\n",
    "plt.xlabel('Month')\n",
    "plt.ylabel('Precipitation [mm]')\n",
    "plt.grid(axis='y')\n",
    "plt.legend()\n",
    "plt.show()"
   ]
  },
  {
   "cell_type": "markdown",
   "metadata": {},
   "source": [
    "## Histogram of Daily Mean Precipitation with Percentiles\n",
    "\n",
    "To understand the distribution of daily precipitation, we visualize a **histogram** of wet days (precipitation > 0.5mm).\n",
    "This helps us analyze the **frequency of different precipitation amounts** and assess key statistical measures.\n"
   ]
  },
  {
   "cell_type": "code",
   "execution_count": null,
   "metadata": {},
   "outputs": [],
   "source": [
    "# Optain array of precipitation data from the xarray\n",
    "daily_mean = daily_precipitation['tp']\n",
    "# filter out only wet days (daily precipitation > 0.5mm)\n",
    "daily_mean_wet = daily_mean[(daily_mean > 0.5)]\n",
    "\n",
    "# Calculate mean, median, and percentiles\n",
    "mean_precip = daily_mean_wet.mean().values\n",
    "median_precip = np.nanmedian(daily_mean_wet.values)\n",
    "percentile_95 = np.nanpercentile(daily_mean_wet.values, 95)\n",
    "percentile_99 = np.nanpercentile(daily_mean_wet.values, 99)\n",
    "\n",
    "# Plot the histogram\n",
    "plt.figure(figsize=(8, 6))\n",
    "plt.hist(daily_mean_wet, bins=50, alpha=0.7, color='skyblue', edgecolor='black')\n",
    "\n",
    "# Add lines for mean, median, and percentiles\n",
    "plt.axvline(mean_precip, color='red', linestyle='dashed', linewidth=1, label=f'Mean: {mean_precip:.2f}')\n",
    "plt.axvline(median_precip, color='green', linestyle='dashed', linewidth=1, label=f'Median: {median_precip:.2f}')\n",
    "plt.axvline(percentile_95, color='orange', linestyle='dashed', linewidth=1, label=f'95th Percentile: {percentile_95:.2f}')\n",
    "plt.axvline(percentile_99, color='purple', linestyle='dashed', linewidth=1, label=f'99th Percentile: {percentile_99:.2f}')\n",
    "\n",
    "# Plot legend, labels, and title\n",
    "plt.legend()\n",
    "plt.xlabel('Daily Mean Precipitation (mm)')\n",
    "plt.ylabel('Frequency')\n",
    "plt.title('Histogram of Daily Mean Precipitation with Percentiles')\n",
    "plt.grid(True)\n",
    "plt.show()"
   ]
  },
  {
   "cell_type": "markdown",
   "metadata": {},
   "source": [
    "## Gamma Distribution Fit to Precipitation Data\n",
    "We fit a **Gamma distribution** to the daily precipitation data and compare it to the empirical distribution.\n",
    "The probability density function (PDF) of the Gamma distribution is given by:\n",
    "$$ f(x; k, \\theta) = \\frac{x^{k-1} e^{-x/\\theta}}{\\theta^k \\Gamma(k)} $$\n",
    "where:\n",
    "- $k$ is the shape parameter,\n",
    "- $\\theta$ is the scale parameter,\n",
    "- $\\Gamma(k)$ is the gamma function.\n",
    "\n",
    "### Cumulative Distribution Function (CDF)\n",
    "\n",
    "The **cumulative distribution function (CDF)**, which gives the probability that a random variable \\( $X$ \\) takes on a value less than or equal to \\( x \\), is given by:\n",
    "\n",
    "$$ F(x; k, \\theta) = \\frac{1}{\\Gamma(k)} \\gamma(k, x / \\theta) $$\n",
    "\n",
    "where:\n",
    "- \\( $\\gamma(k, x/\\theta)$ \\) is the **lower incomplete gamma function**.\n",
    "\n",
    "The **CDF** is used for determining the probability of exceedance and calculating precipitation return levels."
   ]
  },
  {
   "cell_type": "code",
   "execution_count": null,
   "metadata": {},
   "outputs": [],
   "source": [
    "daily_mean = daily_precipitation['tp']\n",
    "daily_mean_wet = daily_mean[(daily_mean > 0.5)]\n",
    "shape, loc, scale = gamma.fit(daily_mean_wet)\n",
    "x = np.linspace(0, daily_mean.max().values, 100)\n",
    "pdf_fitted = gamma.pdf(x, shape, loc, scale)\n",
    "plt.figure(figsize=(8, 6))\n",
    "plt.hist(daily_mean_wet, bins=50, density=True, alpha=0.7, label='Observed Data')\n",
    "plt.plot(x, pdf_fitted, 'r-', label='Fitted Gamma Distribution')\n",
    "plt.xlabel('Precipitation (mm)')\n",
    "plt.ylabel('Probability Density')\n",
    "plt.title('Gamma Distribution Fit to Precipitation Data')\n",
    "plt.legend()\n",
    "plt.grid(True)\n",
    "plt.show()"
   ]
  },
  {
   "cell_type": "markdown",
   "metadata": {},
   "source": [
    "## Estimating Return Period Using the Fitted Gamma Distribution\n",
    "\n",
    "To estimate the **return period** of extreme precipitation events, we model the **probability of exceedance** using the fitted **Gamma distribution**.\n",
    "\n",
    "\n",
    "Not every day has precipitation, so we first determine the **probability of a wet day** (rainfall > 0.5mm):\n",
    "\n",
    "$$ P_{\\text{wet}} = \\frac{n_{\\text{wet}}}{n_{\\text{all}}} $$\n",
    "\n",
    "where $n_{\\text{wet}}$ is the number of days with precipitation, $n_{\\text{all}}$ is the total number of days in the dataset.\n",
    "\n",
    "\n",
    "We select a **threshold precipitation level** (e.g., **50mm**) to analyze the frequency of extreme rainfall events.\n",
    "\n",
    "\n",
    "The probability that **a precipitation event exceeds the threshold**, given that it is a wet day, is:\n",
    "\n",
    "$$ P(x>X) = 1 - F(x) $$\n",
    "\n",
    "where \\( $F(x)$ \\) is the **Cumulative Distribution Function (CDF)** of the fitted **Gamma distribution**.\n",
    "\n",
    "Since precipitation only occurs on **wet days**, we adjust this probability by multiplying by \\( $P_{\\text{wet}}$ \\):\n",
    "\n",
    "$$ P(x>X)_{\\text{wet}} = P(x>X) \\cdot P_{\\text{wet}} $$\n",
    "\n",
    "\n",
    "The probability that at least one exceedance occurs in a **year (365 days)** is:\n",
    "\n",
    "$$ P(x>X)_{\\text{annual}} = 1 - (1 - P(x>X)_{\\text{wet}})^{365} $$\n",
    "\n",
    "\n",
    "The **return period** ($\\tau$) represents the expected number of years between extreme precipitation events exceeding the threshold:\n",
    "\n",
    "$$ \\tau = \\frac{1}{P_{\\text{annual}}} $$\n"
   ]
  },
  {
   "cell_type": "code",
   "execution_count": null,
   "metadata": {},
   "outputs": [],
   "source": [
    "# Calculate probability of rain days\n",
    "n_all = daily_mean.size\n",
    "n_wet = daily_mean_wet.size\n",
    "p_wet = n_wet/n_all\n",
    "# If we select a treshold we can model the return period based on the fitted distribution function\n",
    "event_threshold = 50 #mm\n",
    "# Optain the daily probability of threshold exeedance \n",
    "p_daily = 1 - gamma(shape, loc, scale).cdf(event_threshold)\n",
    "# Transfrom this to an annual probability\n",
    "p_annual = 1 - (1 - p_daily*p_wet)**365\n",
    "# Claculate return period\n",
    "return_period_model = 1/p_annual\n",
    "# Print result\n",
    "print(return_period_model)"
   ]
  },
  {
   "cell_type": "markdown",
   "metadata": {},
   "source": [
    "## Extreme Value Analysis (EVA)\n",
    "\n",
    "Extreme Value Analysis (EVA) is used to model rare events, such as extreme precipitation events, and estimate return levels over different time periods.\n",
    "\n",
    "### Generalized Extreme Value (GEV) Distribution\n",
    "\n",
    "The **Generalized Extreme Value (GEV)** distribution is commonly used in EVA and is defined as:\n",
    "\n",
    "$$ F(x;\\mu,\\sigma,\\xi) = \\exp \\left\\{ - \\left( 1 + \\xi \\frac{x - \\mu}{\\sigma} \\right)^{-1/\\xi} \\right\\}, \\quad \\text{for } 1 + \\xi \\frac{x - \\mu}{\\sigma} > 0 $$\n",
    "\n",
    "where:\n",
    "$ \\mu $ is the location parameter (center of distribution),\\\n",
    "$ \\sigma $ is the scale parameter (spread of distribution),\\\n",
    "$ \\xi $ is the shape parameter, which determines the tail behavior:\\\n",
    "If $ \\xi > 0 $, the distribution has a heavy tail (**Fréchet type**),\\\n",
    "If $ \\xi = 0 $, it reduces to the **Gumbel distribution**,\\\n",
    "If $ \\xi < 0 $, it has a finite upper bound (**Weibull type**).\n",
    "\n",
    "### Applying EVA to Precipitation Data\n",
    "\n",
    "We use the **pyextremes** library to:\n",
    "- Identify **extreme precipitation events** (block maxima or peaks over threshold),\n",
    "- Fit the **Generalized Extreme Value (GEV) model** to estimate return levels,\n",
    "- Perform **diagnostic checks** to validate the model.\n",
    "\n",
    "By applying this method, we can assess **climate risks** associated with extreme rainfall and understand long-term precipitation patterns."
   ]
  },
  {
   "cell_type": "code",
   "execution_count": null,
   "metadata": {},
   "outputs": [],
   "source": [
    "precip_values = daily_precipitation['tp'].sel(time=slice('1951-07-01', '2020-12-31')).to_pandas()\n",
    "model = EVA(precip_values)\n",
    "model.get_extremes(method='BM', block_size='365D')\n",
    "model.plot_extremes()\n",
    "model.fit_model()\n",
    "summary = model.get_summary(return_period=[2, 5, 10, 25, 50, 100, 250, 500, 1000], alpha=0.95, n_samples=1000)\n",
    "model.plot_diagnostic(alpha=0.95)\n",
    "summary"
   ]
  },
  {
   "cell_type": "code",
   "execution_count": null,
   "metadata": {},
   "outputs": [],
   "source": []
  }
 ],
 "metadata": {
  "kernelspec": {
   "display_name": "Python 3 (ipykernel)",
   "language": "python",
   "name": "python3"
  },
  "language_info": {
   "codemirror_mode": {
    "name": "ipython",
    "version": 3
   },
   "file_extension": ".py",
   "mimetype": "text/x-python",
   "name": "python",
   "nbconvert_exporter": "python",
   "pygments_lexer": "ipython3",
   "version": "3.8.10"
  }
 },
 "nbformat": 4,
 "nbformat_minor": 4
}
